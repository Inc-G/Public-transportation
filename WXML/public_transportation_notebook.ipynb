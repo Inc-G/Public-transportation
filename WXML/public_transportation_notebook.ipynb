{
 "cells": [
  {
   "cell_type": "code",
   "execution_count": 6,
   "id": "2089a9c8-60d2-44fd-8909-5261fb4ba23a",
   "metadata": {},
   "outputs": [
    {
     "data": {
      "text/plain": [
       "<module 'get_paths' from '/Users/giovanniinchiostro/public_transportation/get_paths.py'>"
      ]
     },
     "execution_count": 6,
     "metadata": {},
     "output_type": "execute_result"
    }
   ],
   "source": [
    "import pandas as pd\n",
    "import numpy as np\n",
    "\n",
    "import PTN_to_event_network as PTN_to_event_network\n",
    "import get_paths as get_paths\n",
    "import tdm_b as tdm_b\n",
    "import forward_CPM as forward_CPM\n",
    "\n",
    "import importlib\n",
    "\n",
    "importlib.reload(get_paths)"
   ]
  },
  {
   "cell_type": "code",
   "execution_count": 30,
   "id": "d03d5c33-d9f5-4d82-9791-96690cf03b7c",
   "metadata": {},
   "outputs": [],
   "source": [
    "MIN_TRANSFER = [0,0,0,0,0]\n",
    "# min time to transfer at each station\n",
    "\n",
    "VEHICLE_PATHS = [\n",
    "        [(0,1),(1,0)],\n",
    "        [(2,1),(1,3)],\n",
    "]\n",
    "SCHEDULE = [\n",
    "    [0,5,7,10],\n",
    "    [0,4,6,10]\n",
    "]\n",
    "\n",
    "MIN_TIMES = [\n",
    "    [4,1,3],\n",
    "    [3,1,4]\n",
    "]\n",
    "\n",
    "E_DEL = [0,0,0,2,5,3,0,2] #What is the length of e_del? total length of schedule"
   ]
  },
  {
   "cell_type": "code",
   "execution_count": 29,
   "id": "232204c3-ec5e-4102-96f2-96b085feb420",
   "metadata": {},
   "outputs": [],
   "source": [
    "EAN, columns,rows, edge_to = PTN_to_event_network.PTN_to_event_network(MIN_TRANSFER, VEHICLE_PATHS, SCHEDULE, MIN_TIMES)"
   ]
  },
  {
   "cell_type": "code",
   "execution_count": 18,
   "id": "e5c4eb82-6df5-4e13-9d70-bf17f9f3efc3",
   "metadata": {},
   "outputs": [],
   "source": [
    "paths, weighting, changing, driving = get_paths.get_paths(EAN, columns,rows)"
   ]
  },
  {
   "cell_type": "code",
   "execution_count": 23,
   "id": "58047546-3f73-462d-b716-cb47fe566d7f",
   "metadata": {},
   "outputs": [],
   "source": [
    "WEIGHTS = np.random.rand(len(paths))\n",
    "E_DEL = [0,0,0,0,1,1,0,2]"
   ]
  },
  {
   "cell_type": "code",
   "execution_count": 25,
   "id": "7b68bce1-6382-4fc8-bef8-f31d4f864a50",
   "metadata": {},
   "outputs": [],
   "source": [
    "maintained_paths = tdm_b.tdm_b(EAN, columns, rows, E_DEL, WEIGHTS)"
   ]
  },
  {
   "cell_type": "code",
   "execution_count": 27,
   "id": "745cecbf-b34a-4f00-8810-01cb407813b8",
   "metadata": {},
   "outputs": [
    {
     "data": {
      "text/plain": [
       "[((1, 1, -1), (1, 3, 1)),\n",
       " ((0, 0, -1), (0, 1, 1)),\n",
       " ((0, 1, -1), (0, 0, 1)),\n",
       " ((1, 2, -1), (1, 1, 1)),\n",
       " ((1, 2, -1), (1, 1, 1), (0, 1, -1), (0, 0, 1)),\n",
       " ((0, 0, -1), (0, 1, 1), (1, 1, -1), (1, 3, 1))]"
      ]
     },
     "execution_count": 27,
     "metadata": {},
     "output_type": "execute_result"
    }
   ],
   "source": [
    "maintained_paths"
   ]
  },
  {
   "cell_type": "code",
   "execution_count": 31,
   "id": "6d474da7-473a-4eed-a77c-2b0f35e5ea5e",
   "metadata": {},
   "outputs": [],
   "source": [
    "edge_to_trimmed = forward_CPM.keep_critcal_connections(maintained_paths, edge_to)"
   ]
  },
  {
   "cell_type": "code",
   "execution_count": 32,
   "id": "9b25f258-a31a-4299-9593-4a366ae4608b",
   "metadata": {},
   "outputs": [
    {
     "data": {
      "text/plain": [
       "{-1: [((0, 1), (1, 6)), ((1, 5), (0, 2))],\n",
       " 0: [[1, 4]],\n",
       " 1: [[2, 1], [6, 0]],\n",
       " 2: [[3, 3]],\n",
       " 4: [[5, 3]],\n",
       " 5: [[6, 1], [2, 0]],\n",
       " 6: [[7, 4]]}"
      ]
     },
     "execution_count": 32,
     "metadata": {},
     "output_type": "execute_result"
    }
   ],
   "source": [
    "edge_to_trimmed"
   ]
  },
  {
   "cell_type": "code",
   "execution_count": 33,
   "id": "2e234d00-da8e-440e-83e0-d1340db88829",
   "metadata": {},
   "outputs": [
    {
     "data": {
      "text/plain": [
       "[0, 5, 8, 12, 5, 8, 9, 13]"
      ]
     },
     "execution_count": 33,
     "metadata": {},
     "output_type": "execute_result"
    }
   ],
   "source": [
    "forward_CPM.forward_CPM(SCHEDULE,E_DEL, edge_to_trimmed)"
   ]
  },
  {
   "cell_type": "markdown",
   "id": "e589c9cc-43f7-46e6-ba41-53ac5daee41b",
   "metadata": {},
   "source": [
    "## Example 2"
   ]
  },
  {
   "cell_type": "code",
   "execution_count": 60,
   "id": "9f4b544b-03bd-40f4-81f6-b967c3ceb98a",
   "metadata": {},
   "outputs": [],
   "source": [
    "MIN_TRANSFER = [0,1,0,0]\n",
    "#assuming paths are fed in so that there are no loops(ok if whole path is a loop)\n",
    "#each list is for each vehicle sequentially, and the tuples are edges in the path.\n",
    "VEHICLE_PATHS = [\n",
    "        [(0,1),(1,0)],\n",
    "        [(2,1),(1,2)],\n",
    "        [(3,1),(1,3)]\n",
    "]\n",
    "#assuming sceudels (and minimum times) are in-order with the paths\n",
    "SCHEDULE = [\n",
    "    [0,5,10,150],\n",
    "    [0,7,8,100],\n",
    "    [0,4,6,100]\n",
    "]\n",
    "\n",
    "MIN_TIMES = [\n",
    "    [4,1,3],\n",
    "    [3,1,2],\n",
    "    [3,1,4]\n",
    "]"
   ]
  },
  {
   "cell_type": "code",
   "execution_count": 61,
   "id": "c1c8d887-d57f-42b8-9583-9ffbda95e10d",
   "metadata": {},
   "outputs": [],
   "source": [
    "EAN, columns,rows, edge_to = PTN_to_event_network.PTN_to_event_network(MIN_TRANSFER, VEHICLE_PATHS, SCHEDULE, MIN_TIMES)"
   ]
  },
  {
   "cell_type": "code",
   "execution_count": 62,
   "id": "d639058f-9449-40f1-889f-8461509560a5",
   "metadata": {},
   "outputs": [],
   "source": [
    "paths, weighting, changing, driving = get_paths.get_paths(EAN, columns,rows)"
   ]
  },
  {
   "cell_type": "code",
   "execution_count": 66,
   "id": "b9e7efea-7c93-49b6-b039-3ea1ba9aaabf",
   "metadata": {},
   "outputs": [
    {
     "data": {
      "text/plain": [
       "array([0, 2, 2, 0, 1, 2, 1, 1, 1, 2, 1, 1])"
      ]
     },
     "execution_count": 66,
     "metadata": {},
     "output_type": "execute_result"
    }
   ],
   "source": [
    "WEIGHTS = np.random.rand(len(paths))\n",
    "length_E_DEL = sum(len(_) for _ in SCHEDULE)\n",
    "E_DEL = np.random.randint(3, size=length_E_DEL)\n",
    "E_DEL"
   ]
  },
  {
   "cell_type": "code",
   "execution_count": 68,
   "id": "06fab920-22e3-418a-912c-bfa05ba2be86",
   "metadata": {},
   "outputs": [],
   "source": [
    "maintained_paths = tdm_b.tdm_b(EAN,columns,rows, E_DEL,WEIGHTS )"
   ]
  },
  {
   "cell_type": "code",
   "execution_count": 69,
   "id": "1ffb300b-eaa5-4496-99b0-ad015e08b4fe",
   "metadata": {},
   "outputs": [],
   "source": [
    "edge_to_trimmed = forward_CPM.keep_critcal_connections(maintained_paths, edge_to)"
   ]
  },
  {
   "cell_type": "code",
   "execution_count": 73,
   "id": "0b4aafa2-8741-4759-b902-c248e2ada832",
   "metadata": {},
   "outputs": [
    {
     "data": {
      "text/plain": [
       "[np.int64(0),\n",
       " np.int64(7),\n",
       " np.int64(12),\n",
       " np.int64(150),\n",
       " np.int64(1),\n",
       " np.int64(9),\n",
       " np.int64(10),\n",
       " np.int64(101),\n",
       " np.int64(1),\n",
       " np.int64(6),\n",
       " np.int64(8),\n",
       " np.int64(101)]"
      ]
     },
     "execution_count": 73,
     "metadata": {},
     "output_type": "execute_result"
    }
   ],
   "source": [
    "forward_CPM.forward_CPM(SCHEDULE,E_DEL, edge_to_trimmed)"
   ]
  },
  {
   "cell_type": "code",
   "execution_count": null,
   "id": "37954078-44e1-4ac0-80e6-fd2e8e55fdfe",
   "metadata": {},
   "outputs": [],
   "source": []
  }
 ],
 "metadata": {
  "kernelspec": {
   "display_name": "Python 3 (ipykernel)",
   "language": "python",
   "name": "python3"
  },
  "language_info": {
   "codemirror_mode": {
    "name": "ipython",
    "version": 3
   },
   "file_extension": ".py",
   "mimetype": "text/x-python",
   "name": "python",
   "nbconvert_exporter": "python",
   "pygments_lexer": "ipython3",
   "version": "3.13.2"
  }
 },
 "nbformat": 4,
 "nbformat_minor": 5
}
